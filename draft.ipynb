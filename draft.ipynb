{
 "cells": [
  {
   "cell_type": "code",
   "execution_count": 1,
   "metadata": {},
   "outputs": [],
   "source": [
    "import pandas as pd\n",
    "import numpy as np"
   ]
  },
  {
   "cell_type": "code",
   "execution_count": 2,
   "metadata": {},
   "outputs": [],
   "source": [
    "model_data_path = \"/Users/huanting_wu/PycharmProjects/ENG680_Spring2020_Project/data/model_data_normalized.csv\""
   ]
  },
  {
   "cell_type": "code",
   "execution_count": 3,
   "metadata": {},
   "outputs": [
    {
     "name": "stdout",
     "output_type": "stream",
     "text": [
      "X shape: (1989, 132)\n",
      "y shape: (1989,)\n",
      "x_train shape: (1591, 132)\n",
      "x_dev shape: (199, 132)\n",
      "x_test shape: (199, 132)\n",
      "y_train shape: (1591,)\n",
      "y_dev shape: (199,)\n",
      "y_test shape: (199,)\n"
     ]
    }
   ],
   "source": [
    "df = pd.read_csv(model_data_path).fillna(0)\n",
    "\n",
    "x = df[df.columns[1:-1]]\n",
    "y = df[df.columns[-1]]\n",
    "print(\"X shape:\", x.shape)\n",
    "print(\"y shape:\", y.shape)\n",
    "\n",
    "x_train, x_dev, x_test = np.split(x, [int(.8 * len(x)), int(.9 * len(x))])\n",
    "print(\"x_train shape:\", x_train.shape)\n",
    "print(\"x_dev shape:\", x_dev.shape)\n",
    "print(\"x_test shape:\", x_test.shape)\n",
    "\n",
    "y_train, y_dev, y_test = np.split(y, [int(.8 * len(y)), int(.9 * len(y))])\n",
    "print(\"y_train shape:\", y_train.shape)\n",
    "print(\"y_dev shape:\", y_dev.shape)\n",
    "print(\"y_test shape:\", y_test.shape)"
   ]
  },
  {
   "cell_type": "code",
   "execution_count": 4,
   "metadata": {},
   "outputs": [
    {
     "data": {
      "text/plain": [
       "LogisticRegression(C=1.0, class_weight=None, dual=False, fit_intercept=True,\n",
       "                   intercept_scaling=1, l1_ratio=None, max_iter=100,\n",
       "                   multi_class='warn', n_jobs=None, penalty='l2',\n",
       "                   random_state=42, solver='lbfgs', tol=0.0001, verbose=0,\n",
       "                   warm_start=False)"
      ]
     },
     "execution_count": 4,
     "metadata": {},
     "output_type": "execute_result"
    }
   ],
   "source": [
    "from sklearn.linear_model import LogisticRegression\n",
    "logistic_regression = LogisticRegression(random_state=42, solver=\"lbfgs\")\n",
    "logistic_regression.fit(x_train, y_train)"
   ]
  },
  {
   "cell_type": "code",
   "execution_count": 5,
   "metadata": {},
   "outputs": [
    {
     "name": "stdout",
     "output_type": "stream",
     "text": [
      "accuracy dev set: 0.964824120603015\n",
      "accuracy test set: 0.9698492462311558\n"
     ]
    }
   ],
   "source": [
    "accuracy_dev = logistic_regression.score(x_dev, y_dev)\n",
    "accuracy_test = logistic_regression.score(x_test, y_test)\n",
    "print(\"accuracy dev set:\", accuracy_dev)\n",
    "print(\"accuracy test set:\", accuracy_test)"
   ]
  },
  {
   "cell_type": "code",
   "execution_count": 6,
   "metadata": {},
   "outputs": [
    {
     "name": "stdout",
     "output_type": "stream",
     "text": [
      "consusion matrix dev set\n",
      " [[101   3]\n",
      " [  4  91]]\n",
      "consusion matrix test set\n",
      " [[ 89   3]\n",
      " [  3 104]]\n"
     ]
    }
   ],
   "source": [
    "y_dev_pred = logistic_regression.predict(x_dev)\n",
    "y_test_pred = logistic_regression.predict(x_test)\n",
    "\n",
    "from sklearn.metrics import confusion_matrix\n",
    "\n",
    "print(\"consusion matrix dev set\\n\", confusion_matrix(y_dev, y_dev_pred))\n",
    "print(\"consusion matrix test set\\n\", confusion_matrix(y_test, y_test_pred))"
   ]
  },
  {
   "cell_type": "code",
   "execution_count": 12,
   "metadata": {},
   "outputs": [],
   "source": [
    "coefficient_array = logistic_regression.coef_"
   ]
  },
  {
   "cell_type": "code",
   "execution_count": 18,
   "metadata": {},
   "outputs": [],
   "source": [
    "feature_weight_dict = {}\n",
    "for feature, weight in zip(x.columns.to_list(), coefficient_array[0]):\n",
    "    feature_weight_dict.update({feature : weight})"
   ]
  },
  {
   "cell_type": "code",
   "execution_count": 28,
   "metadata": {},
   "outputs": [
    {
     "data": {
      "text/html": [
       "<div>\n",
       "<style scoped>\n",
       "    .dataframe tbody tr th:only-of-type {\n",
       "        vertical-align: middle;\n",
       "    }\n",
       "\n",
       "    .dataframe tbody tr th {\n",
       "        vertical-align: top;\n",
       "    }\n",
       "\n",
       "    .dataframe thead th {\n",
       "        text-align: right;\n",
       "    }\n",
       "</style>\n",
       "<table border=\"1\" class=\"dataframe\">\n",
       "  <thead>\n",
       "    <tr style=\"text-align: right;\">\n",
       "      <th></th>\n",
       "      <th>Feature</th>\n",
       "      <th>Weight</th>\n",
       "    </tr>\n",
       "  </thead>\n",
       "  <tbody>\n",
       "    <tr>\n",
       "      <td>6</td>\n",
       "      <td>change_value</td>\n",
       "      <td>11.476861</td>\n",
       "    </tr>\n",
       "    <tr>\n",
       "      <td>7</td>\n",
       "      <td>Top1_sentiment</td>\n",
       "      <td>0.589171</td>\n",
       "    </tr>\n",
       "    <tr>\n",
       "      <td>25</td>\n",
       "      <td>Top7_sentiment</td>\n",
       "      <td>0.407438</td>\n",
       "    </tr>\n",
       "    <tr>\n",
       "      <td>37</td>\n",
       "      <td>Top11_sentiment</td>\n",
       "      <td>0.366023</td>\n",
       "    </tr>\n",
       "    <tr>\n",
       "      <td>13</td>\n",
       "      <td>Top3_sentiment</td>\n",
       "      <td>0.358705</td>\n",
       "    </tr>\n",
       "  </tbody>\n",
       "</table>\n",
       "</div>"
      ],
      "text/plain": [
       "            Feature     Weight\n",
       "6      change_value  11.476861\n",
       "7    Top1_sentiment   0.589171\n",
       "25   Top7_sentiment   0.407438\n",
       "37  Top11_sentiment   0.366023\n",
       "13   Top3_sentiment   0.358705"
      ]
     },
     "execution_count": 28,
     "metadata": {},
     "output_type": "execute_result"
    }
   ],
   "source": [
    "df_feature_weight = pd.DataFrame(feature_weight_dict.items(), columns=(\"Feature\", \"Weight\")).sort_values(\"Weight\", ascending=False)\n",
    "df_feature_weight.head()"
   ]
  },
  {
   "cell_type": "code",
   "execution_count": null,
   "metadata": {},
   "outputs": [],
   "source": []
  },
  {
   "cell_type": "code",
   "execution_count": null,
   "metadata": {},
   "outputs": [],
   "source": []
  },
  {
   "cell_type": "code",
   "execution_count": null,
   "metadata": {},
   "outputs": [],
   "source": []
  },
  {
   "cell_type": "code",
   "execution_count": null,
   "metadata": {},
   "outputs": [],
   "source": []
  }
 ],
 "metadata": {
  "kernelspec": {
   "display_name": "Python 3",
   "language": "python",
   "name": "python3"
  },
  "language_info": {
   "codemirror_mode": {
    "name": "ipython",
    "version": 3
   },
   "file_extension": ".py",
   "mimetype": "text/x-python",
   "name": "python",
   "nbconvert_exporter": "python",
   "pygments_lexer": "ipython3",
   "version": "3.7.4"
  }
 },
 "nbformat": 4,
 "nbformat_minor": 2
}
